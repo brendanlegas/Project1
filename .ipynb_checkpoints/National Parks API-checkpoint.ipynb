{
 "cells": [
  {
   "cell_type": "code",
   "execution_count": 257,
   "metadata": {},
   "outputs": [
    {
     "data": {
      "text/html": [
       "<div>\n",
       "<style scoped>\n",
       "    .dataframe tbody tr th:only-of-type {\n",
       "        vertical-align: middle;\n",
       "    }\n",
       "\n",
       "    .dataframe tbody tr th {\n",
       "        vertical-align: top;\n",
       "    }\n",
       "\n",
       "    .dataframe thead th {\n",
       "        text-align: right;\n",
       "    }\n",
       "</style>\n",
       "<table border=\"1\" class=\"dataframe\">\n",
       "  <thead>\n",
       "    <tr style=\"text-align: right;\">\n",
       "      <th></th>\n",
       "      <th>Area Name</th>\n",
       "      <th>Region</th>\n",
       "      <th>State</th>\n",
       "      <th>NPS Fee Acres</th>\n",
       "      <th>NPS Less Than Fee Acres</th>\n",
       "      <th>Other Federal Fee Acres</th>\n",
       "      <th>Subtotal Federal Acres</th>\n",
       "      <th>Other Public Acres</th>\n",
       "      <th>Private Acres</th>\n",
       "      <th>Subtotal Non-Federal Acres</th>\n",
       "      <th>Gross Area Acres</th>\n",
       "      <th>Unnamed: 11</th>\n",
       "      <th>Unnamed: 12</th>\n",
       "      <th>Unnamed: 13</th>\n",
       "    </tr>\n",
       "  </thead>\n",
       "  <tbody>\n",
       "    <tr>\n",
       "      <th>0</th>\n",
       "      <td>A LINCOLN BIRTHPL NHP</td>\n",
       "      <td>1</td>\n",
       "      <td>KY</td>\n",
       "      <td>344.50</td>\n",
       "      <td>0.00</td>\n",
       "      <td>0.00</td>\n",
       "      <td>344.50</td>\n",
       "      <td>0.00</td>\n",
       "      <td>0.00</td>\n",
       "      <td>0.00</td>\n",
       "      <td>344.50</td>\n",
       "      <td>NaN</td>\n",
       "      <td>NaN</td>\n",
       "      <td>NaN</td>\n",
       "    </tr>\n",
       "    <tr>\n",
       "      <th>1</th>\n",
       "      <td>ACADIA NP</td>\n",
       "      <td>1</td>\n",
       "      <td>ME</td>\n",
       "      <td>37,475.00</td>\n",
       "      <td>10,707.90</td>\n",
       "      <td>24.27</td>\n",
       "      <td>48,207.17</td>\n",
       "      <td>48.22</td>\n",
       "      <td>821.24</td>\n",
       "      <td>869.46</td>\n",
       "      <td>49,076.63</td>\n",
       "      <td>NaN</td>\n",
       "      <td>NaN</td>\n",
       "      <td>NaN</td>\n",
       "    </tr>\n",
       "    <tr>\n",
       "      <th>2</th>\n",
       "      <td>ADAMS NHP</td>\n",
       "      <td>1</td>\n",
       "      <td>MA</td>\n",
       "      <td>9.17</td>\n",
       "      <td>0.00</td>\n",
       "      <td>0.00</td>\n",
       "      <td>9.17</td>\n",
       "      <td>4.00</td>\n",
       "      <td>10.65</td>\n",
       "      <td>14.65</td>\n",
       "      <td>23.82</td>\n",
       "      <td>NaN</td>\n",
       "      <td>NaN</td>\n",
       "      <td>NaN</td>\n",
       "    </tr>\n",
       "    <tr>\n",
       "      <th>3</th>\n",
       "      <td>AFRICAN BURIAL GROUND NM</td>\n",
       "      <td>1</td>\n",
       "      <td>NY</td>\n",
       "      <td>0.35</td>\n",
       "      <td>0.00</td>\n",
       "      <td>0.00</td>\n",
       "      <td>0.35</td>\n",
       "      <td>0.00</td>\n",
       "      <td>0.00</td>\n",
       "      <td>0.00</td>\n",
       "      <td>0.35</td>\n",
       "      <td>NaN</td>\n",
       "      <td>NaN</td>\n",
       "      <td>NaN</td>\n",
       "    </tr>\n",
       "    <tr>\n",
       "      <th>4</th>\n",
       "      <td>AGATE FOSSIL BEDS NM</td>\n",
       "      <td>5</td>\n",
       "      <td>NE</td>\n",
       "      <td>2,270.33</td>\n",
       "      <td>459.75</td>\n",
       "      <td>0.00</td>\n",
       "      <td>2,730.08</td>\n",
       "      <td>24.43</td>\n",
       "      <td>303.36</td>\n",
       "      <td>327.79</td>\n",
       "      <td>3,057.87</td>\n",
       "      <td>NaN</td>\n",
       "      <td>NaN</td>\n",
       "      <td>NaN</td>\n",
       "    </tr>\n",
       "  </tbody>\n",
       "</table>\n",
       "</div>"
      ],
      "text/plain": [
       "                  Area Name Region State NPS Fee Acres  \\\n",
       "0     A LINCOLN BIRTHPL NHP      1    KY        344.50   \n",
       "1                 ACADIA NP      1    ME     37,475.00   \n",
       "2                 ADAMS NHP      1    MA          9.17   \n",
       "3  AFRICAN BURIAL GROUND NM      1    NY          0.35   \n",
       "4      AGATE FOSSIL BEDS NM      5    NE      2,270.33   \n",
       "\n",
       "  NPS Less Than Fee Acres Other Federal Fee Acres Subtotal Federal Acres  \\\n",
       "0                    0.00                    0.00                 344.50   \n",
       "1               10,707.90                   24.27              48,207.17   \n",
       "2                    0.00                    0.00                   9.17   \n",
       "3                    0.00                    0.00                   0.35   \n",
       "4                  459.75                    0.00               2,730.08   \n",
       "\n",
       "  Other Public Acres Private Acres Subtotal Non-Federal Acres  \\\n",
       "0               0.00          0.00                       0.00   \n",
       "1              48.22        821.24                     869.46   \n",
       "2               4.00         10.65                      14.65   \n",
       "3               0.00          0.00                       0.00   \n",
       "4              24.43        303.36                     327.79   \n",
       "\n",
       "  Gross Area Acres  Unnamed: 11  Unnamed: 12  Unnamed: 13  \n",
       "0           344.50          NaN          NaN          NaN  \n",
       "1        49,076.63          NaN          NaN          NaN  \n",
       "2            23.82          NaN          NaN          NaN  \n",
       "3             0.35          NaN          NaN          NaN  \n",
       "4         3,057.87          NaN          NaN          NaN  "
      ]
     },
     "execution_count": 257,
     "metadata": {},
     "output_type": "execute_result"
    }
   ],
   "source": [
    "#imporing dependencies\n",
    "import json\n",
    "import requests\n",
    "import pandas as pd\n",
    "import matplotlib.pyplot as plt\n",
    "\n",
    "#assigning file path to variable\n",
    "park_data_2019 = \"Resources/NPS-Acreage-12-31-2019.csv\"\n",
    "park_data_2018 = \"Resources/NPS-Acreage-12-31-2018.csv\"\n",
    "park_data_2017 = \"Resources/NPS-Acreage-12-31-2017.csv\"\n",
    "park_data_2016 = \"Resources/NPS-Acreage-12-31-2016.csv\"\n",
    "\n",
    "#loading csv data into a Pandas dataframe\n",
    "df_2019 = pd.read_csv(park_data_2019)\n",
    "df_2018 = pd.read_csv(park_data_2018)\n",
    "df_2017 = pd.read_csv(park_data_2017)\n",
    "df_2016 = pd.read_csv(park_data_2016)\n",
    "\n",
    "#having a look at the data\n",
    "df_2019.head()"
   ]
  },
  {
   "cell_type": "code",
   "execution_count": 258,
   "metadata": {},
   "outputs": [],
   "source": [
    "#only care about the name, state and total acres for each year\n",
    "clean_df_2019 = df_2019[[\"Area Name\", \"State\", \"Gross Area Acres\"]].dropna(how=\"any\")\n",
    "clean_df_2018 = df_2018[[\"Area Name\", \"State\", \"Gross Area Acres\"]].dropna(how=\"any\")\n",
    "clean_df_2017 = df_2017[[\"Area Name\", \"State\", \"Gross Area Acres\"]].dropna(how=\"any\")\n",
    "clean_df_2016 = df_2016[[\"Area Name\", \"State\", \"Gross Area Acres\"]].dropna(how=\"any\")"
   ]
  },
  {
   "cell_type": "code",
   "execution_count": 259,
   "metadata": {},
   "outputs": [],
   "source": [
    "#merging individual year data together into a single dataframe across the time period of project scope (4 years)\n",
    "df_2019_2018 = pd.merge(clean_df_2019, clean_df_2018, on = (\"Area Name\", \"State\"), suffixes = (\"_2019\", \"_2018\"))\n",
    "df_2017_2016 = pd.merge(clean_df_2017, clean_df_2016, on = (\"Area Name\", \"State\"), suffixes = (\"_2017\", \"_2016\"))\n",
    "total_df = pd.merge(df_2019_2018, df_2017_2016, on = (\"Area Name\", \"State\"))"
   ]
  },
  {
   "cell_type": "code",
   "execution_count": 260,
   "metadata": {},
   "outputs": [],
   "source": [
    "#formatting numbers and then converting the strings to type float so I can perform functions\n",
    "years = [\"2019\", \"2018\", \"2017\", \"2016\"]\n",
    "for year in years:\n",
    "    total_df['Gross Area Acres_' + year] = total_df['Gross Area Acres_' + year].str.replace(',','')\n",
    "    total_df['Gross Area Acres_' + year] = total_df['Gross Area Acres_' + year].astype(float)"
   ]
  },
  {
   "cell_type": "code",
   "execution_count": 261,
   "metadata": {},
   "outputs": [
    {
     "data": {
      "image/png": "[encoded data removed]",
      "text/plain": [
       "<Figure size 720x504 with 1 Axes>"
      ]
     },
     "metadata": {
      "needs_background": "light"
     },
     "output_type": "display_data"
    }
   ],
   "source": [
    "#calculating average acres and adding it to the dataframe\n",
    "total_df[\"Average Acres\"] = (total_df[\"Gross Area Acres_2019\"] + total_df[\"Gross Area Acres_2018\"] + total_df[\"Gross Area Acres_2017\"] + total_df[\"Gross Area Acres_2016\"])/4\n",
    "\n",
    "#filtering out all other types of federal parks\n",
    "only_national = total_df[total_df['Area Name'].str.contains('NP')]\n",
    "only_national.set_index('Area Name')\n",
    "largest_parks = only_national.sort_values(\"Average Acres\", ascending = False).reset_index(drop=True)\n",
    "\n",
    "#finding x and y values for the bar plot\n",
    "parks = largest_parks[\"Area Name\"].iloc[:8]\n",
    "acres = largest_parks[\"Average Acres\"].iloc[:8]\n",
    "\n",
    "#creating bar plot for Parks vs acres \n",
    "plt.figure(figsize=(10,7))\n",
    "plt.bar(parks,acres,width=.8,color='dodgerblue')\n",
    "plt.xticks(parks, rotation = 85)\n",
    "plt.title('Largest National Parks in the USA')\n",
    "plt.xlabel(\"Parks\")\n",
    "plt.ylabel(\"Acres\")\n",
    "plt.gcf().subplots_adjust(bottom=0.30)\n",
    "plt.savefig(\"LargestParks.png\")\n",
    "\n",
    "                         \n",
    "                         "
   ]
  },
  {
   "cell_type": "code",
   "execution_count": 262,
   "metadata": {},
   "outputs": [
    {
     "data": {
      "image/png": "[encoded data removed]",
      "text/plain": [
       "<Figure size 720x504 with 1 Axes>"
      ]
     },
     "metadata": {
      "needs_background": "light"
     },
     "output_type": "display_data"
    }
   ],
   "source": [
    "#grouping dataframe by state\n",
    "state_group = only_national.groupby(\"State\")\n",
    "acres_total = state_group[\"Average Acres\"].sum()\n",
    "acres = acres_total.sort_values(ascending = False).iloc[:8].round(0)\n",
    "states = acres.index.values.tolist()\n",
    "\n",
    "#plotting bar chart for the largest park acres by state\n",
    "plt.figure(figsize=(10,7))\n",
    "plt.bar(states,acres,width=.8,color='dodgerblue')\n",
    "plt.xticks(states, rotation = 85,)\n",
    "plt.ticklabel_format(style='plain', axis='y')\n",
    "plt.title('States with the Most Park Land')\n",
    "plt.xlabel(\"State\")\n",
    "plt.ylabel(\"Acres\")\n",
    "plt.gcf().subplots_adjust(bottom=0.30)\n",
    "plt.savefig(\"LandByState.png\")"
   ]
  },
  {
   "cell_type": "code",
   "execution_count": null,
   "metadata": {},
   "outputs": [],
   "source": []
  }
 ],
 "metadata": {
  "kernelspec": {
   "display_name": "Python 3",
   "language": "python",
   "name": "python3"
  },
  "language_info": {
   "codemirror_mode": {
    "name": "ipython",
    "version": 3
   },
   "file_extension": ".py",
   "mimetype": "text/x-python",
   "name": "python",
   "nbconvert_exporter": "python",
   "pygments_lexer": "ipython3",
   "version": "3.7.6"
  }
 },
 "nbformat": 4,
 "nbformat_minor": 4
}
